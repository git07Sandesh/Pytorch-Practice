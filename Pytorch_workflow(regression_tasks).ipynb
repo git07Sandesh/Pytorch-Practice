{
  "nbformat": 4,
  "nbformat_minor": 0,
  "metadata": {
    "colab": {
      "provenance": [],
      "authorship_tag": "ABX9TyPZn65faH5CHtS8aKFdBGQi",
      "include_colab_link": true
    },
    "kernelspec": {
      "name": "python3",
      "display_name": "Python 3"
    },
    "language_info": {
      "name": "python"
    }
  },
  "cells": [
    {
      "cell_type": "markdown",
      "metadata": {
        "id": "view-in-github",
        "colab_type": "text"
      },
      "source": [
        "<a href=\"https://colab.research.google.com/github/git07Sandesh/Pytorch-Practice/blob/main/Pytorch_workflow(regression_tasks).ipynb\" target=\"_parent\"><img src=\"https://colab.research.google.com/assets/colab-badge.svg\" alt=\"Open In Colab\"/></a>"
      ]
    },
    {
      "cell_type": "code",
      "execution_count": null,
      "metadata": {
        "id": "8Po24DYOdDxV"
      },
      "outputs": [],
      "source": [
        "import torch\n",
        "from torch import nn\n",
        "\n",
        "import matplotlib.pyplot as plt\n",
        "\n"
      ]
    },
    {
      "cell_type": "markdown",
      "source": [
        "#DAta PReparation And Loading\n",
        "* Can have anything as data: Excel spreadsheets, images, videos, text, DNA, audio (anything)\n",
        "\n",
        "* But everything should be converted to Numerical representations.\n",
        "\n",
        "* Build a model that learns based on that data.\n",
        "\n",
        "\n"
      ],
      "metadata": {
        "id": "4F_gL4rndswo"
      }
    },
    {
      "cell_type": "markdown",
      "source": [
        "#LEts use Linear Regression MOdel from this:\n",
        "We will use Linear Regression for now:"
      ],
      "metadata": {
        "id": "o0RTm-NCd9eZ"
      }
    },
    {
      "cell_type": "code",
      "source": [
        "\n",
        "weight = 0.7\n",
        "bias = 0.3\n",
        "X = torch.arange(0, 1, 0.02).unsqueeze(dim=1)\n",
        "y = weight * X + bias\n",
        "X[:10], y[:10]\n"
      ],
      "metadata": {
        "colab": {
          "base_uri": "https://localhost:8080/"
        },
        "id": "tFjWsqjHeZAM",
        "outputId": "a021869e-a679-4895-ff58-3f6a905f8945"
      },
      "execution_count": null,
      "outputs": [
        {
          "output_type": "execute_result",
          "data": {
            "text/plain": [
              "(tensor([[0.0000],\n",
              "         [0.0200],\n",
              "         [0.0400],\n",
              "         [0.0600],\n",
              "         [0.0800],\n",
              "         [0.1000],\n",
              "         [0.1200],\n",
              "         [0.1400],\n",
              "         [0.1600],\n",
              "         [0.1800]]),\n",
              " tensor([[0.3000],\n",
              "         [0.3140],\n",
              "         [0.3280],\n",
              "         [0.3420],\n",
              "         [0.3560],\n",
              "         [0.3700],\n",
              "         [0.3840],\n",
              "         [0.3980],\n",
              "         [0.4120],\n",
              "         [0.4260]]))"
            ]
          },
          "metadata": {},
          "execution_count": 6
        }
      ]
    },
    {
      "cell_type": "markdown",
      "source": [
        "#Data Splitting\n",
        "Three DataSets: Training Sets(learn), Validation Sets(practice), Testing Sets(final)\n",
        "\n"
      ],
      "metadata": {
        "id": "Mxz6BcaxWhAq"
      }
    },
    {
      "cell_type": "code",
      "source": [
        "#Creating a train test split.\n",
        "train_split = int(0.8 * len(X))\n",
        "X_train, y_train = X[:train_split], y[:train_split]\n",
        "X_test, y_test = X[train_split:], y[train_split:]\n",
        "len(X_train), len(y_train), len(X_test), len(y_test)\n",
        "\n",
        "#Or use scikit learn's train test split.\n"
      ],
      "metadata": {
        "colab": {
          "base_uri": "https://localhost:8080/"
        },
        "id": "HrrghoCZXQDB",
        "outputId": "2af3bc0b-0e21-4841-9a5b-040926640d06"
      },
      "execution_count": null,
      "outputs": [
        {
          "output_type": "execute_result",
          "data": {
            "text/plain": [
              "(40, 40, 10, 10)"
            ]
          },
          "metadata": {},
          "execution_count": 7
        }
      ]
    },
    {
      "cell_type": "markdown",
      "source": [
        "#Now We need to visualize the data.\n",
        "We can create a function so that we can visualize the data for multiple instances.\n"
      ],
      "metadata": {
        "id": "GM0ifQoOYEJO"
      }
    },
    {
      "cell_type": "code",
      "source": [
        "def plot_predictions(train_data=X_train,\n",
        "                     train_labels=y_train,\n",
        "                     test_data=X_test,\n",
        "                     test_labels=y_test,\n",
        "                     predictions=None):\n",
        "  plt.figure(figsize=(10, 7))\n",
        "  #Plotting training data\n",
        "  plt.scatter(train_data, train_labels, c=\"b\", s=4, label=\"Training Data\")\n",
        "  #Plotting test data\n",
        "  plt.scatter(test_data, test_labels, c=\"g\", s=4, label=\"Test Data\")\n",
        "  if predictions is not None:\n",
        "    plt.scatter(test_data, predictions, c=\"r\", s=4, label=\"Predictions\")\n",
        "  plt.legend(prop={\"size\": 14})"
      ],
      "metadata": {
        "id": "T-ks7dQwYPum"
      },
      "execution_count": null,
      "outputs": []
    },
    {
      "cell_type": "code",
      "source": [
        "plot_predictions()"
      ],
      "metadata": {
        "colab": {
          "base_uri": "https://localhost:8080/",
          "height": 598
        },
        "id": "POTsxttyYrfo",
        "outputId": "836ed5c4-e012-40dd-8531-afe0f2d99c77"
      },
      "execution_count": null,
      "outputs": [
        {
          "output_type": "display_data",
          "data": {
            "text/plain": [
              "<Figure size 1000x700 with 1 Axes>"
            ],
            "image/png": "[encoded data removed]"
          },
          "metadata": {}
        }
      ]
    },
    {
      "cell_type": "code",
      "source": [
        "#Now we will be building Pytorch model:\n",
        "from torch import nn\n",
        "\n",
        "class LinearRegressionModel(nn.Module): # nn.Module is the base class for neural network\n",
        "  def __init__(self):\n",
        "    super().__init__()\n",
        "    self.weights = nn.Parameter(torch.randn(1, requires_grad=True, dtype=torch.float))\n",
        "    self.bias = nn.Parameter(torch.randn(1, requires_grad=True, dtype=torch.float))\n",
        "\n",
        "  def forward(self, x: torch.Tensor) -> torch.Tensor:\n",
        "    return self.weights * x + self.bias"
      ],
      "metadata": {
        "id": "evJWHQqdY61Y"
      },
      "execution_count": null,
      "outputs": []
    },
    {
      "cell_type": "code",
      "source": [
        "torch.manual_seed(42)\n",
        "model_0 = LinearRegressionModel()\n",
        "\n",
        "list(model_0.parameters())\n"
      ],
      "metadata": {
        "id": "BOEhDyKgKFTU",
        "colab": {
          "base_uri": "https://localhost:8080/"
        },
        "outputId": "042e6402-834e-4cc4-a778-89b6af003bd7"
      },
      "execution_count": null,
      "outputs": [
        {
          "output_type": "execute_result",
          "data": {
            "text/plain": [
              "[Parameter containing:\n",
              " tensor([0.3367], requires_grad=True),\n",
              " Parameter containing:\n",
              " tensor([0.1288], requires_grad=True)]"
            ]
          },
          "metadata": {},
          "execution_count": 11
        }
      ]
    },
    {
      "cell_type": "code",
      "source": [
        "model_0.state_dict()"
      ],
      "metadata": {
        "colab": {
          "base_uri": "https://localhost:8080/"
        },
        "id": "4OSK3WE9M25S",
        "outputId": "c285461a-2d9e-4975-8413-db318f73136d"
      },
      "execution_count": null,
      "outputs": [
        {
          "output_type": "execute_result",
          "data": {
            "text/plain": [
              "OrderedDict([('weights', tensor([0.3367])), ('bias', tensor([0.1288]))])"
            ]
          },
          "metadata": {},
          "execution_count": 12
        }
      ]
    },
    {
      "cell_type": "code",
      "source": [
        "print(X_test)"
      ],
      "metadata": {
        "colab": {
          "base_uri": "https://localhost:8080/"
        },
        "id": "mQkKvOxUNssf",
        "outputId": "ba991af3-6c39-4f96-d1c2-0e05fd105aed"
      },
      "execution_count": null,
      "outputs": [
        {
          "output_type": "stream",
          "name": "stdout",
          "text": [
            "tensor([[0.8000],\n",
            "        [0.8200],\n",
            "        [0.8400],\n",
            "        [0.8600],\n",
            "        [0.8800],\n",
            "        [0.9000],\n",
            "        [0.9200],\n",
            "        [0.9400],\n",
            "        [0.9600],\n",
            "        [0.9800]])\n"
          ]
        }
      ]
    },
    {
      "cell_type": "code",
      "source": [
        "#Making PRedictions using our model\n",
        "\n",
        "with torch.inference_mode():\n",
        "  y_preds = model_0(X_test)\n",
        "y_preds"
      ],
      "metadata": {
        "colab": {
          "base_uri": "https://localhost:8080/"
        },
        "id": "wah24DzFM9IB",
        "outputId": "0aa337fb-2d37-47bf-d2e6-4a6a57013f74"
      },
      "execution_count": null,
      "outputs": [
        {
          "output_type": "execute_result",
          "data": {
            "text/plain": [
              "tensor([[0.3982],\n",
              "        [0.4049],\n",
              "        [0.4116],\n",
              "        [0.4184],\n",
              "        [0.4251],\n",
              "        [0.4318],\n",
              "        [0.4386],\n",
              "        [0.4453],\n",
              "        [0.4520],\n",
              "        [0.4588]])"
            ]
          },
          "metadata": {},
          "execution_count": 14
        }
      ]
    },
    {
      "cell_type": "code",
      "source": [
        "plot_predictions(predictions=y_preds)"
      ],
      "metadata": {
        "colab": {
          "base_uri": "https://localhost:8080/",
          "height": 598
        },
        "id": "19j6GKxfOJmH",
        "outputId": "14f37f7c-5b1e-4bfa-e379-fc66dfea0aa4"
      },
      "execution_count": null,
      "outputs": [
        {
          "output_type": "display_data",
          "data": {
            "text/plain": [
              "<Figure size 1000x700 with 1 Axes>"
            ],
            "image/png": "[encoded data removed]"
          },
          "metadata": {}
        }
      ]
    },
    {
      "cell_type": "code",
      "source": [
        "#SEtting up an optimizer and loss function:\n",
        "\n",
        "loss_fn = nn.L1Loss()\n",
        "\n",
        "optimizer = torch.optim.SGD(params=model_0.parameters(), lr=0.01) #Like a coach who adjusts model's weight, lr = learning rate (dont set too less and too high)\n",
        "\n",
        "\n",
        "\n"
      ],
      "metadata": {
        "id": "nJT9GVn7O-CA"
      },
      "execution_count": null,
      "outputs": []
    },
    {
      "cell_type": "markdown",
      "source": [
        "#Building a training loop:\n",
        "#STEPS:\n",
        "0. Loop through the data.\n",
        "1. Forward Pass(this involves data moving through our model's forward() function) - also called forward propagation:\n",
        "2. Calculate the loss function and compare this with ground truth table.\n",
        "3. Optimizer zero grad\n",
        "4. Backward loss propagation\n",
        "5. Optimizer step"
      ],
      "metadata": {
        "id": "IALkNwLOQD98"
      }
    },
    {
      "cell_type": "code",
      "source": [
        "epochs = 30 #One loop through the data; #ANother hyperparameter\n",
        "\n",
        "for epoch in range(epochs):\n",
        "  model_0.train() ##Setting the model to training mode: Opposite of inference mode:\n",
        "\n",
        "  #1. Forward pass\n",
        "  y_pred = model_0(X_train)\n",
        "\n",
        "  #2. Calculate the loss\n",
        "  loss = loss_fn(y_pred, y_train)\n",
        "  print(f\"Loss: {loss}\")\n",
        "\n",
        "  #3. Optimizer zero grad\n",
        "  optimizer.zero_grad()\n",
        "\n",
        "  #4. Perform backward propagation:\n",
        "  loss.backward()\n",
        "\n",
        "  #5. Step the optimizer\n",
        "  optimizer.step()\n",
        "\n",
        "#Testing:\n",
        "  model_0.eval() ##Turns off the gradient tracking\n",
        "  with torch.inference_mode():\n",
        "    #Still do a forward pass\n",
        "    test_pred = model_0(X_test)\n",
        "    test_loss = loss_fn(test_pred, y_test)\n",
        "    print(f\"Test Loss: {test_loss}\")\n",
        "  if(epoch % 10 == 0):\n",
        "    print(f'Epoch: {epoch} | loss: {loss} | Test Loss:{test_loss}')\n",
        "\n",
        "\n"
      ],
      "metadata": {
        "colab": {
          "base_uri": "https://localhost:8080/"
        },
        "id": "dIjd4oycQKVC",
        "outputId": "59ab77e7-e916-4e84-d13f-bf0a08fcdda2"
      },
      "execution_count": null,
      "outputs": [
        {
          "output_type": "stream",
          "name": "stdout",
          "text": [
            "Loss: 0.008932482451200485\n",
            "Test Loss: 0.005023092031478882\n",
            "Epoch: 0 | loss: 0.008932482451200485 | Test Loss:0.005023092031478882\n",
            "Loss: 0.0025885067880153656\n",
            "Test Loss: 0.008447891101241112\n",
            "Loss: 0.008932482451200485\n",
            "Test Loss: 0.005023092031478882\n",
            "Loss: 0.0025885067880153656\n",
            "Test Loss: 0.008447891101241112\n",
            "Loss: 0.008932482451200485\n",
            "Test Loss: 0.005023092031478882\n",
            "Loss: 0.0025885067880153656\n",
            "Test Loss: 0.008447891101241112\n",
            "Loss: 0.008932482451200485\n",
            "Test Loss: 0.005023092031478882\n",
            "Loss: 0.0025885067880153656\n",
            "Test Loss: 0.008447891101241112\n",
            "Loss: 0.008932482451200485\n",
            "Test Loss: 0.005023092031478882\n",
            "Loss: 0.0025885067880153656\n",
            "Test Loss: 0.008447891101241112\n",
            "Loss: 0.008932482451200485\n",
            "Test Loss: 0.005023092031478882\n",
            "Epoch: 10 | loss: 0.008932482451200485 | Test Loss:0.005023092031478882\n",
            "Loss: 0.0025885067880153656\n",
            "Test Loss: 0.008447891101241112\n",
            "Loss: 0.008932482451200485\n",
            "Test Loss: 0.005023092031478882\n",
            "Loss: 0.0025885067880153656\n",
            "Test Loss: 0.008447891101241112\n",
            "Loss: 0.008932482451200485\n",
            "Test Loss: 0.005023092031478882\n",
            "Loss: 0.0025885067880153656\n",
            "Test Loss: 0.008447891101241112\n",
            "Loss: 0.008932482451200485\n",
            "Test Loss: 0.005023092031478882\n",
            "Loss: 0.0025885067880153656\n",
            "Test Loss: 0.008447891101241112\n",
            "Loss: 0.008932482451200485\n",
            "Test Loss: 0.005023092031478882\n",
            "Loss: 0.0025885067880153656\n",
            "Test Loss: 0.008447891101241112\n",
            "Loss: 0.008932482451200485\n",
            "Test Loss: 0.005023092031478882\n",
            "Epoch: 20 | loss: 0.008932482451200485 | Test Loss:0.005023092031478882\n",
            "Loss: 0.0025885067880153656\n",
            "Test Loss: 0.008447891101241112\n",
            "Loss: 0.008932482451200485\n",
            "Test Loss: 0.005023092031478882\n",
            "Loss: 0.0025885067880153656\n",
            "Test Loss: 0.008447891101241112\n",
            "Loss: 0.008932482451200485\n",
            "Test Loss: 0.005023092031478882\n",
            "Loss: 0.0025885067880153656\n",
            "Test Loss: 0.008447891101241112\n",
            "Loss: 0.008932482451200485\n",
            "Test Loss: 0.005023092031478882\n",
            "Loss: 0.0025885067880153656\n",
            "Test Loss: 0.008447891101241112\n",
            "Loss: 0.008932482451200485\n",
            "Test Loss: 0.005023092031478882\n",
            "Loss: 0.0025885067880153656\n",
            "Test Loss: 0.008447891101241112\n"
          ]
        }
      ]
    },
    {
      "cell_type": "code",
      "source": [
        "model_0.state_dict()"
      ],
      "metadata": {
        "colab": {
          "base_uri": "https://localhost:8080/"
        },
        "id": "MyeEkXF_VObY",
        "outputId": "d82a50a8-7940-44a7-e82e-c43bdf4f1262"
      },
      "execution_count": null,
      "outputs": [
        {
          "output_type": "execute_result",
          "data": {
            "text/plain": [
              "OrderedDict([('weights', tensor([0.6990])), ('bias', tensor([0.3093]))])"
            ]
          },
          "metadata": {},
          "execution_count": 48
        }
      ]
    },
    {
      "cell_type": "code",
      "source": [
        "with torch.inference_mode():\n",
        "  y_preds_new = model_0(X_test)\n",
        "\n",
        "plot_predictions(predictions=y_preds_new)"
      ],
      "metadata": {
        "colab": {
          "base_uri": "https://localhost:8080/",
          "height": 598
        },
        "id": "HSWFd_fuWC2U",
        "outputId": "7c438eb3-7690-4a82-9601-d5fdeec11b5b"
      },
      "execution_count": null,
      "outputs": [
        {
          "output_type": "display_data",
          "data": {
            "text/plain": [
              "<Figure size 1000x700 with 1 Axes>"
            ],
            "image/png": "[encoded data removed]"
          },
          "metadata": {}
        }
      ]
    },
    {
      "cell_type": "markdown",
      "source": [
        "#Now lets save our model:\n",
        "# torch.save() - save a Pytorch Object in Python's pickle format\n",
        "#torch.load() - load a saved Pytorch Object\n",
        "#torch.nn.Module.load_state_dict(): load a model's saved state dictionary\n"
      ],
      "metadata": {
        "id": "tTZ8fn4rYPH5"
      }
    },
    {
      "cell_type": "code",
      "source": [
        "from pathlib import Path\n",
        "MODEL_PATH = Path(\"models\")\n",
        "MODEL_PATH.mkdir(parents=True, exist_ok=True)\n",
        "#Creatting a model save path\n",
        "MODEL_NAME = \"01_pytorch_workflow.pth\"\n",
        "model_save_path = MODEL_PATH / MODEL_NAME\n",
        "\n",
        "print(f\"Saving model to: {model_save_path}\")\n",
        "torch.save(obj=model_0.state_dict(), f=model_save_path)\n",
        "#"
      ],
      "metadata": {
        "colab": {
          "base_uri": "https://localhost:8080/"
        },
        "id": "8jGtPGvTTdxc",
        "outputId": "485a7d0d-5bd4-4ab8-d4c1-c87949647c02"
      },
      "execution_count": null,
      "outputs": [
        {
          "output_type": "stream",
          "name": "stdout",
          "text": [
            "Saving model to: models/01_pytorch_workflow.pth\n"
          ]
        }
      ]
    },
    {
      "cell_type": "code",
      "source": [
        "#loading the saved model. So notice that we only saved the model's learned parameter. SO we need to create a new instance of the model and then load the saved 'state_dict()'\n",
        "\n",
        "model_0.state_dict()"
      ],
      "metadata": {
        "colab": {
          "base_uri": "https://localhost:8080/"
        },
        "id": "yihiNN4VUPlM",
        "outputId": "bd0bb385-bb3a-4e21-c403-6e6c1f38d904"
      },
      "execution_count": null,
      "outputs": [
        {
          "output_type": "execute_result",
          "data": {
            "text/plain": [
              "OrderedDict([('weights', tensor([0.6990])), ('bias', tensor([0.3093]))])"
            ]
          },
          "metadata": {},
          "execution_count": 52
        }
      ]
    },
    {
      "cell_type": "code",
      "source": [
        "loaded_model_0 = LinearRegressionModel()\n",
        "loaded_model_0.load_state_dict(torch.load(f=model_save_path))\n",
        "loaded_model_0.state_dict()"
      ],
      "metadata": {
        "colab": {
          "base_uri": "https://localhost:8080/"
        },
        "id": "zsqEOS_gVL75",
        "outputId": "e39ea6ef-9f9a-47cf-c9ae-b06161c0b40f"
      },
      "execution_count": null,
      "outputs": [
        {
          "output_type": "execute_result",
          "data": {
            "text/plain": [
              "OrderedDict([('weights', tensor([0.6990])), ('bias', tensor([0.3093]))])"
            ]
          },
          "metadata": {},
          "execution_count": 54
        }
      ]
    },
    {
      "cell_type": "code",
      "source": [
        "#Make some predictions nowL:\n",
        "loaded_model_0.eval()\n",
        "with torch.inference_mode():\n",
        "  loaded_model_preds = loaded_model_0(X_test)\n",
        "loaded_model_preds\n"
      ],
      "metadata": {
        "colab": {
          "base_uri": "https://localhost:8080/"
        },
        "id": "Sm-BpazRVfbi",
        "outputId": "25c5edd2-88b3-49e3-f7b1-cb720f61a41c"
      },
      "execution_count": null,
      "outputs": [
        {
          "output_type": "execute_result",
          "data": {
            "text/plain": [
              "tensor([[False],\n",
              "        [False],\n",
              "        [False],\n",
              "        [False],\n",
              "        [False],\n",
              "        [False],\n",
              "        [False],\n",
              "        [False],\n",
              "        [False],\n",
              "        [False]])"
            ]
          },
          "metadata": {},
          "execution_count": 56
        }
      ]
    },
    {
      "cell_type": "markdown",
      "source": [],
      "metadata": {
        "id": "oToWqfjlSgEM"
      }
    },
    {
      "cell_type": "code",
      "source": [
        "#Putting Everything Back together:\n",
        "\n",
        "import torch\n",
        "import matplotlib.pyplot as plt\n",
        "\n",
        "\n",
        "#Making or loading a data.\n",
        "weight = 0.7\n",
        "bias = 0.3\n",
        "\n",
        "X = torch.arange(0, 2, 0.01).unsqueeze(dim=1)\n",
        "y = weight * X + bias\n",
        "\n",
        "print(f\"X: {X[:10]}\")\n",
        "print(f\"y: {y[:10]}\")\n",
        "\n"
      ],
      "metadata": {
        "colab": {
          "base_uri": "https://localhost:8080/"
        },
        "id": "j0M164uyWFsu",
        "outputId": "30374c5b-17f7-4334-b6cd-558eeaaa934a"
      },
      "execution_count": null,
      "outputs": [
        {
          "output_type": "stream",
          "name": "stdout",
          "text": [
            "X: tensor([[0.0000],\n",
            "        [0.0100],\n",
            "        [0.0200],\n",
            "        [0.0300],\n",
            "        [0.0400],\n",
            "        [0.0500],\n",
            "        [0.0600],\n",
            "        [0.0700],\n",
            "        [0.0800],\n",
            "        [0.0900]])\n",
            "y: tensor([[0.3000],\n",
            "        [0.3070],\n",
            "        [0.3140],\n",
            "        [0.3210],\n",
            "        [0.3280],\n",
            "        [0.3350],\n",
            "        [0.3420],\n",
            "        [0.3490],\n",
            "        [0.3560],\n",
            "        [0.3630]])\n"
          ]
        }
      ]
    },
    {
      "cell_type": "code",
      "source": [
        "X.size()"
      ],
      "metadata": {
        "colab": {
          "base_uri": "https://localhost:8080/"
        },
        "id": "oaR_wyrHXzbE",
        "outputId": "5e836699-3de0-4251-eb4e-486356a54ad2"
      },
      "execution_count": null,
      "outputs": [
        {
          "output_type": "execute_result",
          "data": {
            "text/plain": [
              "torch.Size([200, 1])"
            ]
          },
          "metadata": {},
          "execution_count": 64
        }
      ]
    },
    {
      "cell_type": "code",
      "source": [
        "#Split the data: can use sklearn's train testt split or can do it mannually:\n",
        "X_train, X_test = X[:150], X[150:]\n",
        "y_train, y_test = y[:150], y[150:]\n"
      ],
      "metadata": {
        "colab": {
          "base_uri": "https://localhost:8080/"
        },
        "id": "m3JGcIV7XjbH",
        "outputId": "86a595fc-c7ec-46ab-e05c-2913d45e2656"
      },
      "execution_count": null,
      "outputs": [
        {
          "output_type": "execute_result",
          "data": {
            "text/plain": [
              "(150, 150, 50, 50)"
            ]
          },
          "metadata": {},
          "execution_count": 65
        }
      ]
    },
    {
      "cell_type": "code",
      "source": [
        "#Plotting the data to see what it looks like: Use gpt for better visualization techniques for now:\n",
        "import matplotlib.pyplot as plt\n",
        "\n",
        "def plot_data(X, y, title=\"Linear Data Plot\"):\n",
        "    \"\"\"\n",
        "    Plots the given X and y data points.\n",
        "\n",
        "    Parameters:\n",
        "    - X (list or array-like): Independent variable values\n",
        "    - y (list or array-like): Dependent variable values\n",
        "    - title (str): Title of the plot\n",
        "    \"\"\"\n",
        "    plt.figure(figsize=(8, 5))\n",
        "    plt.scatter(X, y, color='blue', label='Data Points')\n",
        "    plt.title(title)\n",
        "    plt.xlabel(\"X\")\n",
        "    plt.ylabel(\"y\")\n",
        "    plt.show()\n",
        "\n",
        "plot_data(X[:20], y[:20]) #Just taking 20 data points to make it stand out:\n",
        "\n"
      ],
      "metadata": {
        "colab": {
          "base_uri": "https://localhost:8080/",
          "height": 487
        },
        "id": "ipyWZfQNYIOS",
        "outputId": "9e31bf73-dc10-41ea-f8a2-c4579e128781"
      },
      "execution_count": null,
      "outputs": [
        {
          "output_type": "display_data",
          "data": {
            "text/plain": [
              "<Figure size 800x500 with 1 Axes>"
            ],
            "image/png": "[encoded data removed]"
          },
          "metadata": {}
        }
      ]
    },
    {
      "cell_type": "code",
      "source": [
        "#Building a model:\n",
        "class LinearRegressionModelV2(torch.nn.Module):\n",
        "  def __init__(self):\n",
        "    super().__init__()\n",
        "    self.linear_layer = torch.nn.Linear(in_features=1, out_features=1)\n",
        "\n",
        "  def forward(self, x: torch.Tensor) -> torch.Tensor:\n",
        "    return self.linear_layer(x)\n",
        "\n"
      ],
      "metadata": {
        "id": "RI6eVMXvX_hi"
      },
      "execution_count": null,
      "outputs": []
    },
    {
      "cell_type": "code",
      "source": [],
      "metadata": {
        "id": "i3dXwWS7bTng"
      },
      "execution_count": null,
      "outputs": []
    },
    {
      "cell_type": "code",
      "source": [
        "model_1 = LinearRegressionModelV2()\n",
        "model_1, model_1.state_dict()"
      ],
      "metadata": {
        "colab": {
          "base_uri": "https://localhost:8080/"
        },
        "id": "LT0wvEjCbFRh",
        "outputId": "1860e68e-f5c9-40a9-b9db-16b443929b59"
      },
      "execution_count": null,
      "outputs": [
        {
          "output_type": "execute_result",
          "data": {
            "text/plain": [
              "(LinearRegressionModelV2(\n",
              "   (linear_layer): Linear(in_features=1, out_features=1, bias=True)\n",
              " ),\n",
              " OrderedDict([('linear_layer.weight', tensor([[-0.4668]])),\n",
              "              ('linear_layer.bias', tensor([0.2549]))]))"
            ]
          },
          "metadata": {},
          "execution_count": 78
        }
      ]
    },
    {
      "cell_type": "code",
      "source": [
        "#Now we need to train the model:\n",
        "# But First let's set the cost function and optimizer\n",
        "\n",
        "loss_fn1 = torch.nn.MSELoss()\n",
        "optimizer1 = torch.optim.SGD(params=model_1.parameters(),lr = 0.01)"
      ],
      "metadata": {
        "id": "ha6wg6uhboNL"
      },
      "execution_count": null,
      "outputs": []
    },
    {
      "cell_type": "code",
      "source": [
        "#Training Loop:\n",
        "torch.manual_seed(42)\n",
        "epochs = 500\n",
        "\n",
        "for epoch in range(epochs):\n",
        "  #Set the model in trainning mode:\n",
        "  model_1.train()\n",
        "\n",
        "  y_pred = model_1(X_train)\n",
        "\n",
        "  loss = loss_fn1(y_pred, y_train)\n",
        "\n",
        "  optimizer1.zero_grad()\n",
        "\n",
        "  loss.backward()\n",
        "\n",
        "  optimizer1.step()\n",
        "\n",
        "\n",
        "  model_1.eval()\n",
        "  with torch.inference_mode():\n",
        "    test_pred = model_1(X_test)\n",
        "    test_loss = loss_fn1(test_pred, y_test)\n",
        "\n",
        "\n"
      ],
      "metadata": {
        "id": "9gZgPEPab6Vm"
      },
      "execution_count": null,
      "outputs": []
    },
    {
      "cell_type": "code",
      "source": [
        "model_1.state_dict()"
      ],
      "metadata": {
        "colab": {
          "base_uri": "https://localhost:8080/"
        },
        "id": "wSQknj0pbr9j",
        "outputId": "3c326d0d-cdd4-4087-e4bb-15bbf01cb775"
      },
      "execution_count": null,
      "outputs": [
        {
          "output_type": "execute_result",
          "data": {
            "text/plain": [
              "OrderedDict([('linear_layer.weight', tensor([[0.6979]])),\n",
              "             ('linear_layer.bias', tensor([0.3017]))])"
            ]
          },
          "metadata": {},
          "execution_count": 95
        }
      ]
    },
    {
      "cell_type": "code",
      "source": [
        "\n"
      ],
      "metadata": {
        "id": "e_NJ6ZL7brnB"
      },
      "execution_count": null,
      "outputs": []
    }
  ]
}