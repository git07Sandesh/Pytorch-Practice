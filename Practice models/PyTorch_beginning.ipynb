{
  "nbformat": 4,
  "nbformat_minor": 0,
  "metadata": {
    "colab": {
      "provenance": [],
      "gpuType": "T4",
      "authorship_tag": "ABX9TyNhP8195D7yi5vKQsEMLHkn",
      "include_colab_link": true
    },
    "kernelspec": {
      "name": "python3",
      "display_name": "Python 3"
    },
    "language_info": {
      "name": "python"
    },
    "accelerator": "GPU"
  },
  "cells": [
    {
      "cell_type": "markdown",
      "metadata": {
        "id": "view-in-github",
        "colab_type": "text"
      },
      "source": [
        "<a href=\"https://colab.research.google.com/github/git07Sandesh/Pytorch-Practice/blob/main/PyTorch_beginning.ipynb\" target=\"_parent\"><img src=\"https://colab.research.google.com/assets/colab-badge.svg\" alt=\"Open In Colab\"/></a>"
      ]
    },
    {
      "cell_type": "markdown",
      "source": [
        "# Pytorch Fundamentals\n"
      ],
      "metadata": {
        "id": "mtdSpWKmcu7E"
      }
    },
    {
      "cell_type": "code",
      "source": [
        "import torch\n",
        "import numpy as np\n",
        "import pandas as pd\n",
        "import matplotlib.pyplot as plt\n",
        "print(torch.__version__)"
      ],
      "metadata": {
        "colab": {
          "base_uri": "https://localhost:8080/"
        },
        "id": "SIBleBXYc3eM",
        "outputId": "af5b7436-afc6-458c-f43f-3f2b87b2e440"
      },
      "execution_count": null,
      "outputs": [
        {
          "output_type": "stream",
          "name": "stdout",
          "text": [
            "2.6.0+cu124\n"
          ]
        }
      ]
    },
    {
      "cell_type": "markdown",
      "source": [
        "#Introduction to Tensor"
      ],
      "metadata": {
        "id": "5KPYsqISdL1m"
      }
    },
    {
      "cell_type": "code",
      "source": [
        "scalar = torch.tensor(7)\n",
        "scalar\n"
      ],
      "metadata": {
        "colab": {
          "base_uri": "https://localhost:8080/"
        },
        "id": "U_PyaRExdm2P",
        "outputId": "fc7a8e08-1baa-473d-913b-ca1d293a674b"
      },
      "execution_count": null,
      "outputs": [
        {
          "output_type": "execute_result",
          "data": {
            "text/plain": [
              "tensor(7)"
            ]
          },
          "metadata": {},
          "execution_count": 2
        }
      ]
    },
    {
      "cell_type": "code",
      "source": [
        "scalar.ndim\n"
      ],
      "metadata": {
        "colab": {
          "base_uri": "https://localhost:8080/"
        },
        "id": "1jFOeKbCd8c0",
        "outputId": "8a44df53-bd75-4eaf-9275-2af02378dde5"
      },
      "execution_count": null,
      "outputs": [
        {
          "output_type": "execute_result",
          "data": {
            "text/plain": [
              "0"
            ]
          },
          "metadata": {},
          "execution_count": 3
        }
      ]
    },
    {
      "cell_type": "code",
      "source": [
        "vector = torch.tensor([7,7])\n",
        "print(vector)\n",
        "print(vector.ndim)\n",
        "print(vector.shape)\n"
      ],
      "metadata": {
        "colab": {
          "base_uri": "https://localhost:8080/"
        },
        "id": "Ain6W8HheUh7",
        "outputId": "3fd32cf8-f22d-4c4e-bd24-2eaf729a5fef"
      },
      "execution_count": null,
      "outputs": [
        {
          "output_type": "stream",
          "name": "stdout",
          "text": [
            "tensor([7, 7])\n",
            "1\n",
            "torch.Size([2])\n"
          ]
        }
      ]
    },
    {
      "cell_type": "code",
      "source": [
        "matrix = torch.tensor([[7,8],[9,10]])\n",
        "print(matrix)\n",
        "print(matrix.ndim)\n",
        "print(matrix.shape)"
      ],
      "metadata": {
        "colab": {
          "base_uri": "https://localhost:8080/"
        },
        "id": "k0eZbdORehQS",
        "outputId": "d63bb067-da8c-4f60-9ab9-9d6653e5cd30"
      },
      "execution_count": null,
      "outputs": [
        {
          "output_type": "stream",
          "name": "stdout",
          "text": [
            "tensor([[ 7,  8],\n",
            "        [ 9, 10]])\n",
            "2\n",
            "torch.Size([2, 2])\n"
          ]
        }
      ]
    },
    {
      "cell_type": "code",
      "source": [
        "TENSOR = torch.tensor([[[1,2,3],[4,5,6],[7,8,9]]])\n",
        "print(TENSOR)\n",
        "print(TENSOR.ndim)\n",
        "print(TENSOR.shape)"
      ],
      "metadata": {
        "colab": {
          "base_uri": "https://localhost:8080/"
        },
        "id": "SkyeN8h6eksE",
        "outputId": "b5c67bd6-caba-44b7-c861-048232ae630f"
      },
      "execution_count": null,
      "outputs": [
        {
          "output_type": "stream",
          "name": "stdout",
          "text": [
            "tensor([[[1, 2, 3],\n",
            "         [4, 5, 6],\n",
            "         [7, 8, 9]]])\n",
            "3\n",
            "torch.Size([1, 3, 3])\n"
          ]
        }
      ]
    },
    {
      "cell_type": "markdown",
      "source": [
        "###Random Tensors"
      ],
      "metadata": {
        "id": "CFKq2sSSfpzx"
      }
    },
    {
      "cell_type": "markdown",
      "source": [
        "## ok so most of the tensors in deep learning starts with random tensors and then updates the values of tensor by learning"
      ],
      "metadata": {
        "id": "bpT-BvqhfuY_"
      }
    },
    {
      "cell_type": "code",
      "source": [
        "random_tensor = torch.rand(1,3,4)\n",
        "print(random_tensor)\n",
        "print(random_tensor.ndim)\n",
        "print(random_tensor.shape)"
      ],
      "metadata": {
        "colab": {
          "base_uri": "https://localhost:8080/"
        },
        "id": "zHK3qwebf-vU",
        "outputId": "e59c57ec-d56d-46d5-db9d-cba45bbc0d16"
      },
      "execution_count": null,
      "outputs": [
        {
          "output_type": "stream",
          "name": "stdout",
          "text": [
            "tensor([[[0.4028, 0.0164, 0.3961, 0.7714],\n",
            "         [0.7022, 0.5326, 0.2703, 0.6371],\n",
            "         [0.7321, 0.5491, 0.0345, 0.9226]]])\n",
            "3\n",
            "torch.Size([1, 3, 4])\n"
          ]
        }
      ]
    },
    {
      "cell_type": "code",
      "source": [
        "random_image_size_tensor = torch.rand(size=(3,224,224))\n",
        "print(random_image_size_tensor)\n",
        "print(random_image_size_tensor.ndim)\n",
        "print(random_image_size_tensor.shape)\n",
        "#"
      ],
      "metadata": {
        "colab": {
          "base_uri": "https://localhost:8080/"
        },
        "id": "m0qCxufFgThS",
        "outputId": "efc14976-7dc2-49ca-efd4-cd99877cd4d3"
      },
      "execution_count": null,
      "outputs": [
        {
          "output_type": "stream",
          "name": "stdout",
          "text": [
            "tensor([[[8.8891e-01, 1.0470e-01, 8.2391e-01,  ..., 4.5715e-01,\n",
            "          2.4034e-01, 9.9313e-01],\n",
            "         [5.6722e-01, 4.5726e-01, 6.7427e-01,  ..., 3.4497e-01,\n",
            "          9.8690e-01, 6.0996e-01],\n",
            "         [1.4420e-01, 4.0446e-02, 5.3764e-01,  ..., 5.3617e-01,\n",
            "          3.7611e-02, 9.9418e-01],\n",
            "         ...,\n",
            "         [2.3340e-01, 7.8338e-01, 9.1727e-02,  ..., 7.3704e-01,\n",
            "          1.5583e-01, 1.1155e-01],\n",
            "         [3.0879e-01, 7.2315e-01, 4.0507e-01,  ..., 8.6535e-01,\n",
            "          1.3020e-01, 6.4096e-01],\n",
            "         [1.3017e-01, 1.8663e-01, 3.3404e-01,  ..., 7.4260e-01,\n",
            "          2.6448e-01, 6.6709e-01]],\n",
            "\n",
            "        [[3.6459e-01, 1.0082e-03, 8.9396e-01,  ..., 6.5259e-01,\n",
            "          4.0694e-01, 8.5343e-01],\n",
            "         [4.2255e-01, 7.6811e-01, 2.3216e-01,  ..., 1.6233e-01,\n",
            "          9.1410e-01, 2.7679e-01],\n",
            "         [6.0348e-01, 6.4326e-01, 6.4171e-01,  ..., 5.0187e-01,\n",
            "          3.6922e-01, 2.4633e-01],\n",
            "         ...,\n",
            "         [9.2379e-01, 5.8638e-01, 1.5103e-01,  ..., 8.4192e-01,\n",
            "          6.6286e-01, 9.1216e-02],\n",
            "         [5.9808e-01, 3.5606e-01, 3.5660e-01,  ..., 6.0845e-01,\n",
            "          3.8780e-01, 6.4812e-01],\n",
            "         [1.5336e-02, 3.8889e-01, 1.1059e-01,  ..., 6.6206e-01,\n",
            "          5.0374e-03, 8.2137e-01]],\n",
            "\n",
            "        [[9.7871e-04, 6.2897e-01, 9.5761e-01,  ..., 4.1000e-01,\n",
            "          9.1391e-02, 9.4442e-01],\n",
            "         [9.3366e-01, 8.7700e-01, 1.8925e-01,  ..., 3.2193e-01,\n",
            "          3.5123e-01, 8.7291e-01],\n",
            "         [5.6217e-01, 1.3799e-01, 8.9961e-02,  ..., 3.8525e-02,\n",
            "          3.2615e-01, 1.3079e-02],\n",
            "         ...,\n",
            "         [8.6891e-01, 2.4576e-02, 9.8828e-01,  ..., 8.2126e-01,\n",
            "          6.1276e-01, 8.4825e-01],\n",
            "         [4.8543e-01, 3.1371e-01, 7.4697e-01,  ..., 4.2711e-01,\n",
            "          9.5659e-01, 2.0490e-01],\n",
            "         [4.1330e-01, 7.1306e-01, 7.6684e-01,  ..., 9.0819e-01,\n",
            "          8.3122e-01, 8.3001e-02]]])\n",
            "3\n",
            "torch.Size([3, 224, 224])\n"
          ]
        }
      ]
    },
    {
      "cell_type": "markdown",
      "source": [
        "# ZEROS AND ONES"
      ],
      "metadata": {
        "id": "Oo1tmPzugstx"
      }
    },
    {
      "cell_type": "code",
      "source": [
        "zeros = torch.zeros(size=(3,4))\n",
        "print(zeros)\n",
        "print(zeros.ndim)\n",
        "print(zeros.shape)\n",
        "ones = torch.ones(size=(3,4))\n",
        "print(ones)\n",
        "print(ones.ndim)\n",
        "print(ones.shape)\n",
        "# Default data type is float"
      ],
      "metadata": {
        "colab": {
          "base_uri": "https://localhost:8080/"
        },
        "id": "b7XK4Nxhgvk1",
        "outputId": "c5386a90-629c-4576-e9e5-694d9107cbd2"
      },
      "execution_count": null,
      "outputs": [
        {
          "output_type": "stream",
          "name": "stdout",
          "text": [
            "tensor([[0., 0., 0., 0.],\n",
            "        [0., 0., 0., 0.],\n",
            "        [0., 0., 0., 0.]])\n",
            "2\n",
            "torch.Size([3, 4])\n",
            "tensor([[1., 1., 1., 1.],\n",
            "        [1., 1., 1., 1.],\n",
            "        [1., 1., 1., 1.]])\n",
            "2\n",
            "torch.Size([3, 4])\n"
          ]
        }
      ]
    },
    {
      "cell_type": "markdown",
      "source": [
        "### CREATING a RANGE of TENSOR"
      ],
      "metadata": {
        "id": "QIAjmoRbg-jc"
      }
    },
    {
      "cell_type": "code",
      "source": [
        "odd_num = torch.arange(1,15,2)\n"
      ],
      "metadata": {
        "id": "MioUhhBMhFSK"
      },
      "execution_count": null,
      "outputs": []
    },
    {
      "cell_type": "code",
      "source": [
        "#Create tensors-like\n",
        "ten_zeros = torch.zeros_like(input=odd_num)\n",
        "print(ten_zeros)"
      ],
      "metadata": {
        "colab": {
          "base_uri": "https://localhost:8080/"
        },
        "id": "_fsrgJIMhhSV",
        "outputId": "717df981-6c62-49af-9793-799fb424e810"
      },
      "execution_count": null,
      "outputs": [
        {
          "output_type": "stream",
          "name": "stdout",
          "text": [
            "tensor([0, 0, 0, 0, 0, 0, 0])\n"
          ]
        }
      ]
    },
    {
      "cell_type": "markdown",
      "source": [
        "## Tensor DataType"
      ],
      "metadata": {
        "id": "gvtEGXLqh3P0"
      }
    },
    {
      "cell_type": "code",
      "source": [
        "#Device type is set to CPU as default\n",
        "\n",
        "float32_tensor = torch.tensor((1,2,3,4,5), dtype=torch.float32, device=None, requires_grad=False)\n",
        "float32_tensor\n",
        "float16_tensor = float32_tensor.type(torch.float16)\n",
        "float16_tensor\n",
        "int32_tensor = torch.tensor((1,2,3,4,5), dtype=torch.int32, device=None, requires_grad=False)\n",
        "int32_tensor\n",
        "\n",
        "\n"
      ],
      "metadata": {
        "colab": {
          "base_uri": "https://localhost:8080/"
        },
        "id": "_nfrDfJwh7Vf",
        "outputId": "58010e39-878f-4cfe-ade0-e13e14a821c8"
      },
      "execution_count": null,
      "outputs": [
        {
          "output_type": "execute_result",
          "data": {
            "text/plain": [
              "tensor([1, 2, 3, 4, 5], dtype=torch.int32)"
            ]
          },
          "metadata": {},
          "execution_count": 12
        }
      ]
    },
    {
      "cell_type": "code",
      "source": [
        "div = float16_tensor / float32_tensor\n",
        "div.dtype\n",
        "mult = float16_tensor * int32_tensor\n",
        "mult.dtype\n"
      ],
      "metadata": {
        "colab": {
          "base_uri": "https://localhost:8080/"
        },
        "id": "UfPKyU29kxL2",
        "outputId": "686f8f72-7f9b-443a-babd-a5e298c400a4"
      },
      "execution_count": null,
      "outputs": [
        {
          "output_type": "execute_result",
          "data": {
            "text/plain": [
              "torch.float16"
            ]
          },
          "metadata": {},
          "execution_count": 13
        }
      ]
    },
    {
      "cell_type": "markdown",
      "source": [
        "#Tensor Manipulation:\n",
        "\n",
        "* Addition\n",
        "* Subtraction\n",
        "* Multiplication\n",
        "* Division\n",
        "* Matrix Multiplication"
      ],
      "metadata": {
        "id": "LqjrmUcMk7u-"
      }
    },
    {
      "cell_type": "code",
      "source": [
        "new_tensor = torch.rand(5)\n",
        "print(new_tensor + 10)\n",
        "print(new_tensor * 10)\n",
        "print(new_tensor - 10)\n",
        "print(new_tensor / 10)\n",
        "print(new_tensor * new_tensor)"
      ],
      "metadata": {
        "colab": {
          "base_uri": "https://localhost:8080/"
        },
        "id": "ZWtn17N4yRID",
        "outputId": "339f5250-270b-4092-a78d-2ab901b197c6"
      },
      "execution_count": null,
      "outputs": [
        {
          "output_type": "stream",
          "name": "stdout",
          "text": [
            "tensor([10.4038, 10.0442, 10.7627, 10.8089, 10.2593])\n",
            "tensor([4.0383, 0.4418, 7.6272, 8.0893, 2.5925])\n",
            "tensor([-9.5962, -9.9558, -9.2373, -9.1911, -9.7407])\n",
            "tensor([0.0404, 0.0044, 0.0763, 0.0809, 0.0259])\n",
            "tensor([0.1631, 0.0020, 0.5817, 0.6544, 0.0672])\n"
          ]
        }
      ]
    },
    {
      "cell_type": "markdown",
      "source": [
        "#Matrix Multiplication:\n",
        "Multiply two matrices of the same order.\n",
        "1. Element-wise Multiplication (Scalar Product)\n",
        "2. Matrix Multiplication (Dot Product)"
      ],
      "metadata": {
        "id": "SzobNUNSzGT8"
      }
    },
    {
      "cell_type": "code",
      "source": [
        "# Element-wise Multiplication: Each element is multiplied by its adjacent element\n",
        "common_tensor = torch.tensor([[1,2,3,4,5],[2,3,4,5,6]])\n",
        "print(common_tensor * common_tensor)\n",
        "## You can see how the result will be (Aij)^2: MEaning each element in an index is multiplied by same element."
      ],
      "metadata": {
        "colab": {
          "base_uri": "https://localhost:8080/"
        },
        "id": "iQWsPAgOzwwR",
        "outputId": "2939a0da-96db-4d69-d83c-8ff60fd99351"
      },
      "execution_count": null,
      "outputs": [
        {
          "output_type": "stream",
          "name": "stdout",
          "text": [
            "tensor([[ 1,  4,  9, 16, 25],\n",
            "        [ 4,  9, 16, 25, 36]])\n"
          ]
        }
      ]
    },
    {
      "cell_type": "code",
      "source": [
        "%%time\n",
        "MATRIX1 = torch.tensor([[1,2],[2,3]])\n",
        "MATRIX2 = torch.tensor([[1,2],[2,3]])\n",
        "MAT_mult = torch.matmul(MATRIX1,MATRIX2)\n",
        "print(MAT_mult)\n",
        "# The result is a new n*m matrix resulted by a dot product.\n",
        "\n"
      ],
      "metadata": {
        "colab": {
          "base_uri": "https://localhost:8080/"
        },
        "id": "uT-KMoZ4zM_k",
        "outputId": "5a0fe164-bb86-48f9-a0ff-615cc4fa02ba"
      },
      "execution_count": null,
      "outputs": [
        {
          "output_type": "stream",
          "name": "stdout",
          "text": [
            "tensor([[ 5,  8],\n",
            "        [ 8, 13]])\n",
            "CPU times: user 819 µs, sys: 123 µs, total: 942 µs\n",
            "Wall time: 7.71 ms\n"
          ]
        }
      ]
    },
    {
      "cell_type": "markdown",
      "source": [
        "### How to deal with shape error:\n",
        "1. Transpose the matrix: switches the axes or dimension of the given tensor (remember that the data is still the same but just its axes have been changed. Might affect is the axes represent something specific)\n"
      ],
      "metadata": {
        "id": "ioMtYcpL2Md1"
      }
    },
    {
      "cell_type": "code",
      "source": [
        "A = torch.rand(3,4);\n",
        "B = torch.rand(3,4);\n",
        "print(A)\n",
        "print(B)\n",
        "# HEre A & B cannot be multiplied because the outer dimension of first is not same as second. So we transpose the second.\n",
        "B_T = B.T\n",
        "print(B_T)\n",
        "print(torch.matmul(A,B_T))"
      ],
      "metadata": {
        "colab": {
          "base_uri": "https://localhost:8080/"
        },
        "id": "tXjh77oy2sz5",
        "outputId": "c29c6470-68a1-4002-bf6e-7b84f7cab208"
      },
      "execution_count": null,
      "outputs": [
        {
          "output_type": "stream",
          "name": "stdout",
          "text": [
            "tensor([[0.4971, 0.8190, 0.5038, 0.0225],\n",
            "        [0.1992, 0.3566, 0.8806, 0.5070],\n",
            "        [0.6553, 0.4151, 0.6243, 0.3868]])\n",
            "tensor([[0.7510, 0.1204, 0.0731, 0.8892],\n",
            "        [0.3799, 0.7797, 0.3308, 0.7230],\n",
            "        [0.1010, 0.7524, 0.9642, 0.4941]])\n",
            "tensor([[0.7510, 0.3799, 0.1010],\n",
            "        [0.1204, 0.7797, 0.7524],\n",
            "        [0.0731, 0.3308, 0.9642],\n",
            "        [0.8892, 0.7230, 0.4941]])\n",
            "tensor([[0.5288, 1.0104, 1.1633],\n",
            "        [0.7077, 1.0115, 1.3879],\n",
            "        [0.9316, 1.0588, 1.1716]])\n"
          ]
        }
      ]
    },
    {
      "cell_type": "markdown",
      "source": [
        "# Other operations: MAX, MIN, SUM, MEAN, etc: TENSOR AGGREDATION"
      ],
      "metadata": {
        "id": "u3GRgKhk3gss"
      }
    },
    {
      "cell_type": "code",
      "source": [
        "X = torch.arange(1, 100, 10)\n",
        "print(X)\n",
        "print(X.min(),',', torch.min(X))\n",
        "print(X.max(), torch.max(X))\n",
        "print(X.type(torch.float32).mean(), torch.mean(X.type(torch.float32)))\n",
        "print(X.sum(), torch.sum(X))\n",
        "\n"
      ],
      "metadata": {
        "colab": {
          "base_uri": "https://localhost:8080/"
        },
        "id": "Ty9Mb9rJ3pCh",
        "outputId": "d101b815-cfe4-40a5-c20a-cec96ea83b99"
      },
      "execution_count": null,
      "outputs": [
        {
          "output_type": "stream",
          "name": "stdout",
          "text": [
            "tensor([ 1, 11, 21, 31, 41, 51, 61, 71, 81, 91])\n",
            "tensor(1) , tensor(1)\n",
            "tensor(91) tensor(91)\n",
            "tensor(46.) tensor(46.)\n",
            "tensor(460) tensor(460)\n"
          ]
        }
      ]
    },
    {
      "cell_type": "markdown",
      "source": [
        "### Now we will discuss about the positional min and max:\n"
      ],
      "metadata": {
        "id": "zt8XVIlv5ZD2"
      }
    },
    {
      "cell_type": "code",
      "source": [
        "print(X.argmin())\n",
        "print(X.argmax())\n",
        "print(X.argwhere())"
      ],
      "metadata": {
        "colab": {
          "base_uri": "https://localhost:8080/"
        },
        "id": "MCJ2WIX25jz4",
        "outputId": "26305c52-ad9e-4bcf-c1cf-f2f8e8b84051"
      },
      "execution_count": null,
      "outputs": [
        {
          "output_type": "stream",
          "name": "stdout",
          "text": [
            "tensor(0)\n",
            "tensor(9)\n",
            "tensor([[0],\n",
            "        [1],\n",
            "        [2],\n",
            "        [3],\n",
            "        [4],\n",
            "        [5],\n",
            "        [6],\n",
            "        [7],\n",
            "        [8],\n",
            "        [9]])\n"
          ]
        }
      ]
    },
    {
      "cell_type": "markdown",
      "source": [
        "### NOw we will take a step further and perform complex operations on Tensors:\n",
        "1. Reshaping: Changing the shape of tensors to match the desired shape\n",
        "2. Stacking: Combining the tensors on top of each other (vertical or horizontal)\n",
        "3. Squeezing: removes all `1` dimensions from a tensor\n",
        "4. Unsqueezing: adds a `1` dimension to the tensor\n",
        "5. Permute: Returns a view with dimensions swapped in certain ways\n",
        "6. View: Return a view of an input tensor keeping the memory constant. (It returns the original tensor so any change in view will affect the original tensor) (It's alternate is copy which creates a new space in the memory).\n"
      ],
      "metadata": {
        "id": "qOa42xZ96VBX"
      }
    },
    {
      "cell_type": "code",
      "source": [
        "import torch\n",
        "A = torch.arange(1,100, 10)\n",
        "print(A.shape)\n",
        "print(A.reshape(2,5))"
      ],
      "metadata": {
        "colab": {
          "base_uri": "https://localhost:8080/"
        },
        "id": "dnhO3XZ06eB_",
        "outputId": "4c768ce0-0da2-488c-bc20-fe71ae242d42"
      },
      "execution_count": null,
      "outputs": [
        {
          "output_type": "stream",
          "name": "stdout",
          "text": [
            "torch.Size([10])\n",
            "tensor([[ 1, 11, 21, 31, 41],\n",
            "        [51, 61, 71, 81, 91]])\n"
          ]
        }
      ]
    },
    {
      "cell_type": "code",
      "source": [
        "z = A.view(1,10)\n",
        "print(z, A)\n",
        "#Notice how changing the view changed the original tensor as well which had a different size.\n"
      ],
      "metadata": {
        "colab": {
          "base_uri": "https://localhost:8080/"
        },
        "id": "xYD2Itic9Jsd",
        "outputId": "a7c2777f-e33f-45cc-85d9-33fd93dbd5b6"
      },
      "execution_count": null,
      "outputs": [
        {
          "output_type": "stream",
          "name": "stdout",
          "text": [
            "tensor([[ 1, 11, 21, 31, 41, 51, 61, 71, 81, 91]]) tensor([ 1, 11, 21, 31, 41, 51, 61, 71, 81, 91])\n"
          ]
        }
      ]
    },
    {
      "cell_type": "code",
      "source": [
        "#Stacking tensors on top of each other.\n",
        "B = torch.tensor([[1],[2],[3],[4],[5],[6\n",
        "                                      ],[7],[8],[9],[10]])\n",
        "tensor_1stack = torch.hstack([A,A])\n",
        "tensor_2stack = torch.hstack([B,B])\n",
        "print(tensor_1stack)\n",
        "print(tensor_2stack)\n",
        "#"
      ],
      "metadata": {
        "colab": {
          "base_uri": "https://localhost:8080/"
        },
        "id": "_BkwlTXg_vb4",
        "outputId": "765bdea6-1992-4377-f919-3af32051ae9b"
      },
      "execution_count": null,
      "outputs": [
        {
          "output_type": "stream",
          "name": "stdout",
          "text": [
            "tensor([ 1, 11, 21, 31, 41, 51, 61, 71, 81, 91,  1, 11, 21, 31, 41, 51, 61, 71,\n",
            "        81, 91])\n",
            "tensor([[ 1,  1],\n",
            "        [ 2,  2],\n",
            "        [ 3,  3],\n",
            "        [ 4,  4],\n",
            "        [ 5,  5],\n",
            "        [ 6,  6],\n",
            "        [ 7,  7],\n",
            "        [ 8,  8],\n",
            "        [ 9,  9],\n",
            "        [10, 10]])\n"
          ]
        }
      ]
    },
    {
      "cell_type": "code",
      "source": [
        "x = torch.zeros(2,1,2,1,1)\n",
        "x.size()\n",
        "y = x.squeeze(0) # This is a copy.\n",
        "z = x.squeeze(1) # This is a copy.\n",
        "a = x.squeeze(2) # This is a copy.\n",
        "b = x.squeeze(3) # This is a copy.\n",
        "c = x.squeeze(4) # This is a copy.\n",
        "print(x.size())\n",
        "print(y.size())\n",
        "print(z.size())\n",
        "print(a.size())\n",
        "print(b.size())\n",
        "print(c.size())\n",
        "\n"
      ],
      "metadata": {
        "colab": {
          "base_uri": "https://localhost:8080/"
        },
        "id": "hIxDIl9WBpwF",
        "outputId": "5b686a65-4cff-49f2-f934-404ab6deccc6"
      },
      "execution_count": null,
      "outputs": [
        {
          "output_type": "stream",
          "name": "stdout",
          "text": [
            "torch.Size([2, 1, 2, 1, 1])\n",
            "torch.Size([2, 1, 2, 1, 1])\n",
            "torch.Size([2, 2, 1, 1])\n",
            "torch.Size([2, 1, 2, 1, 1])\n",
            "torch.Size([2, 1, 2, 1])\n",
            "torch.Size([2, 1, 2, 1])\n"
          ]
        }
      ]
    },
    {
      "cell_type": "code",
      "source": [
        "a_un = a.unsqueeze(0)\n",
        "print(a.size())\n",
        "print(a_un.size())"
      ],
      "metadata": {
        "colab": {
          "base_uri": "https://localhost:8080/"
        },
        "id": "4zqQ6KrvG8Au",
        "outputId": "ab0436fa-d072-4608-ec23-ad833cc5b7ad"
      },
      "execution_count": null,
      "outputs": [
        {
          "output_type": "stream",
          "name": "stdout",
          "text": [
            "torch.Size([2, 1, 2, 1, 1])\n",
            "torch.Size([1, 2, 1, 2, 1, 1])\n"
          ]
        }
      ]
    },
    {
      "cell_type": "code",
      "source": [
        "#THis is how we use permute:"
      ],
      "metadata": {
        "id": "v1aWxTERHvvy"
      },
      "execution_count": null,
      "outputs": []
    },
    {
      "cell_type": "code",
      "source": [
        "x_original = torch.rand(size=(224,224,3))\n",
        "x_permuted = x_original.permute(2,1,0)\n",
        "print(x_original.shape)\n",
        "print(x_permuted.shape)\n",
        "# THis is a view\n"
      ],
      "metadata": {
        "colab": {
          "base_uri": "https://localhost:8080/"
        },
        "id": "fNmnZkDfHx-b",
        "outputId": "53930947-8428-4808-d8d3-843286e9eab2"
      },
      "execution_count": null,
      "outputs": [
        {
          "output_type": "stream",
          "name": "stdout",
          "text": [
            "torch.Size([224, 224, 3])\n",
            "torch.Size([3, 224, 224])\n"
          ]
        }
      ]
    },
    {
      "cell_type": "markdown",
      "source": [
        "### INDEXING: SIMILAR AS NUMPY"
      ],
      "metadata": {
        "id": "lex6tggmIRjB"
      }
    },
    {
      "cell_type": "code",
      "source": [
        "import torch\n",
        "x = torch.arange(1, 10).reshape((1,3,3))\n",
        "x\n",
        "\n",
        "\n",
        "\n"
      ],
      "metadata": {
        "colab": {
          "base_uri": "https://localhost:8080/"
        },
        "id": "83DmphwDIV08",
        "outputId": "affdabd6-efd2-4ae0-b779-452c1fccb982"
      },
      "execution_count": null,
      "outputs": [
        {
          "output_type": "execute_result",
          "data": {
            "text/plain": [
              "tensor([[[1, 2, 3],\n",
              "         [4, 5, 6],\n",
              "         [7, 8, 9]]])"
            ]
          },
          "metadata": {},
          "execution_count": 80
        }
      ]
    },
    {
      "cell_type": "code",
      "source": [
        "#This is basic direct indexing.\n",
        "\n",
        "print(x[0])\n",
        "print(x[0][0])\n",
        "print(x[0][2])\n",
        "print(x[0][0][0])\n",
        "print(x[0][1][1])\n",
        "print(x[0][2][2])\n"
      ],
      "metadata": {
        "colab": {
          "base_uri": "https://localhost:8080/"
        },
        "id": "onyx2hokIsZN",
        "outputId": "dd2e6ba6-6558-4ffb-dad5-3f6b483f3ba7"
      },
      "execution_count": null,
      "outputs": [
        {
          "output_type": "stream",
          "name": "stdout",
          "text": [
            "tensor([[1, 2, 3],\n",
            "        [4, 5, 6],\n",
            "        [7, 8, 9]])\n",
            "tensor([1, 2, 3])\n",
            "tensor([7, 8, 9])\n",
            "tensor(1)\n",
            "tensor(5)\n",
            "tensor(9)\n"
          ]
        }
      ]
    },
    {
      "cell_type": "code",
      "source": [
        "#Now we will modify it slightly.  Try to slice the arrays\n",
        "print(x[:, :, 2])\n",
        "for i in range(3):\n",
        "  print(x[:,i,2-i])\n"
      ],
      "metadata": {
        "colab": {
          "base_uri": "https://localhost:8080/"
        },
        "id": "gGL1Y_5qJDk1",
        "outputId": "a06d4b58-3d41-41c5-bf2e-c6f64cab2665"
      },
      "execution_count": null,
      "outputs": [
        {
          "output_type": "stream",
          "name": "stdout",
          "text": [
            "tensor([[3, 6, 9]])\n",
            "tensor([3])\n",
            "tensor([5])\n",
            "tensor([7])\n"
          ]
        }
      ]
    },
    {
      "cell_type": "markdown",
      "source": [
        "### Numpy and Tensor\n",
        "We can convert numpy array to tensor and tensor to numpy:\n",
        "1. Numpy Array -> Pytorch Tensor: torch.torch.from_numpy(ndarray)\n",
        "2. Pytorch Tensor -> Numpy Array: torch.Tensor.numpy()"
      ],
      "metadata": {
        "id": "M8ObGRiKLoZr"
      }
    },
    {
      "cell_type": "code",
      "source": [
        "#Be careful numpy uses float 64 and tensor default is float32 but it takes 64 when changing from numpy to tensor.\n",
        "\n",
        "array = np.arange(1.0, 8.0)\n",
        "tensor = torch.from_numpy(array)\n",
        "print(array)\n",
        "print(tensor)"
      ],
      "metadata": {
        "id": "Vh_JMFRjL_jT"
      },
      "execution_count": null,
      "outputs": []
    },
    {
      "cell_type": "code",
      "source": [
        "#Tensor to Numpy:\n",
        "\n",
        "tensor = torch.ones(2,3)\n",
        "numpy = tensor.numpy()\n",
        "print(tensor.dtype)\n",
        "print(numpy.dtype)"
      ],
      "metadata": {
        "colab": {
          "base_uri": "https://localhost:8080/"
        },
        "id": "Sz7ZpVkoL_BC",
        "outputId": "62ad9357-7070-4b29-d8e4-e10c6aec975a"
      },
      "execution_count": null,
      "outputs": [
        {
          "output_type": "stream",
          "name": "stdout",
          "text": [
            "torch.float32\n",
            "float32\n"
          ]
        }
      ]
    },
    {
      "cell_type": "code",
      "source": [
        "!nvidia-smi\n"
      ],
      "metadata": {
        "colab": {
          "base_uri": "https://localhost:8080/"
        },
        "id": "e4lU84xMO26y",
        "outputId": "9a622b51-5a62-400b-9c8e-3a6f7e419bd7"
      },
      "execution_count": null,
      "outputs": [
        {
          "output_type": "stream",
          "name": "stdout",
          "text": [
            "Thu Jun  5 03:56:34 2025       \n",
            "+-----------------------------------------------------------------------------------------+\n",
            "| NVIDIA-SMI 550.54.15              Driver Version: 550.54.15      CUDA Version: 12.4     |\n",
            "|-----------------------------------------+------------------------+----------------------+\n",
            "| GPU  Name                 Persistence-M | Bus-Id          Disp.A | Volatile Uncorr. ECC |\n",
            "| Fan  Temp   Perf          Pwr:Usage/Cap |           Memory-Usage | GPU-Util  Compute M. |\n",
            "|                                         |                        |               MIG M. |\n",
            "|=========================================+========================+======================|\n",
            "|   0  Tesla T4                       Off |   00000000:00:04.0 Off |                    0 |\n",
            "| N/A   41C    P8              9W /   70W |       0MiB /  15360MiB |      0%      Default |\n",
            "|                                         |                        |                  N/A |\n",
            "+-----------------------------------------+------------------------+----------------------+\n",
            "                                                                                         \n",
            "+-----------------------------------------------------------------------------------------+\n",
            "| Processes:                                                                              |\n",
            "|  GPU   GI   CI        PID   Type   Process name                              GPU Memory |\n",
            "|        ID   ID                                                               Usage      |\n",
            "|=========================================================================================|\n",
            "|  No running processes found                                                             |\n",
            "+-----------------------------------------------------------------------------------------+\n"
          ]
        }
      ]
    },
    {
      "cell_type": "markdown",
      "source": [
        "### OK NOW we will be using PYTORCH WORFLOWS:"
      ],
      "metadata": {
        "id": "_9DHUJlAcroG"
      }
    },
    {
      "cell_type": "code",
      "source": [],
      "metadata": {
        "id": "uR4VXq13c2I7"
      },
      "execution_count": null,
      "outputs": []
    }
  ]
}